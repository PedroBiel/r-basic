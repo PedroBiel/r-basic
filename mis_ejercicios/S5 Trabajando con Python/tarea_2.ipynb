{
 "cells": [
  {
   "cell_type": "markdown",
   "metadata": {},
   "source": [
    "# Tarea 2"
   ]
  },
  {
   "cell_type": "markdown",
   "metadata": {},
   "source": [
    "## Tarea 2.1"
   ]
  },
  {
   "cell_type": "markdown",
   "metadata": {},
   "source": [
    "### Escribe una secuencia de instrucciones que permitan leer un número real por pantalla y que muestre si el número es positivo o no."
   ]
  },
  {
   "cell_type": "code",
   "execution_count": 17,
   "metadata": {},
   "outputs": [
    {
     "name": "stdin",
     "output_type": "stream",
     "text": [
      "Introduce número: 4\n"
     ]
    },
    {
     "name": "stdout",
     "output_type": "stream",
     "text": [
      "4 es un número positivo.\n"
     ]
    }
   ],
   "source": [
    "numero = input('Introduce número real:')\n",
    "\n",
    "if float(numero) > 0:\n",
    "    print(numero, 'es un número positivo.')\n",
    "elif float(numero) < 0:\n",
    "    print(numero, 'es un número negativo.')\n",
    "else:\n",
    "    print(numero, 'es un número neutro.')\n"
   ]
  },
  {
   "cell_type": "markdown",
   "metadata": {},
   "source": [
    "## Tarea 2.2"
   ]
  },
  {
   "cell_type": "markdown",
   "metadata": {},
   "source": [
    "### Escribe una secuencia de instrucciones que permitan leer un número real por pantalla y que muestre si el número está en el rango entre -5 y 5. "
   ]
  },
  {
   "cell_type": "code",
   "execution_count": 18,
   "metadata": {},
   "outputs": [
    {
     "name": "stdin",
     "output_type": "stream",
     "text": [
      "Introduce número: -4\n"
     ]
    },
    {
     "name": "stdout",
     "output_type": "stream",
     "text": [
      "-4 está en el rango entre -5 y 5.\n"
     ]
    }
   ],
   "source": [
    "numero = input('Introduce número real:')\n",
    "\n",
    "if (float(numero) >= -5) and (float(numero) <= 5):\n",
    "    print(numero, 'está en el rango entre -5 y 5.')\n",
    "else:\n",
    "    print(numero, 'está fuera del rango entre -5 y 5.')"
   ]
  },
  {
   "cell_type": "markdown",
   "metadata": {},
   "source": [
    "## Tarea 2.3"
   ]
  },
  {
   "cell_type": "markdown",
   "metadata": {},
   "source": [
    "### Escribe una secuencia de instrucciones que permitan leer las coordenadas de un punto (x, y) e indique en cuál de los cuatro cuadrantes se encuentra dicho punto."
   ]
  },
  {
   "cell_type": "code",
   "execution_count": 20,
   "metadata": {},
   "outputs": [
    {
     "name": "stdin",
     "output_type": "stream",
     "text": [
      "Coordenada x: 9\n",
      "Coordenada y: -8\n"
     ]
    },
    {
     "name": "stdout",
     "output_type": "stream",
     "text": [
      "El punto (9, -8) se encuentra en el cuarto cuadrante.\n"
     ]
    }
   ],
   "source": [
    "x = input('Coordenada x:')\n",
    "y = input('Coordenada y:')\n",
    "\n",
    "x_, y_ = float(x), float(y)\n",
    "\n",
    "if (x_ > 0) and (y_ > 0):\n",
    "    print('El punto (' + x + ', ' + y + ') se encuentra en el primer cuadrante.')\n",
    "elif (x_ < 0) and (y_ > 0):\n",
    "    print('El punto (' + x + ', ' + y + ') se encuentra en el segundo cuadrante.')\n",
    "elif (x_ < 0) and (y_ < 0):\n",
    "    print('El punto (' + x + ', ' + y + ') se encuentra en el tercer cuadrante.')\n",
    "else:\n",
    "    print('El punto (' + x + ', ' + y + ') se encuentra en el cuarto cuadrante.')"
   ]
  },
  {
   "cell_type": "markdown",
   "metadata": {},
   "source": [
    "## Tarea 2.4"
   ]
  },
  {
   "cell_type": "markdown",
   "metadata": {},
   "source": [
    "### Escribe una secuencia de instrucciones que permitan leer dos números enteros y muestre el cociente de la división entera y el resto."
   ]
  },
  {
   "cell_type": "code",
   "execution_count": null,
   "metadata": {},
   "outputs": [],
   "source": [
    "x = int(input('Número entero x:'))\n",
    "y = int(input('Número entero y:'))\n",
    "\n",
    "print()\n",
    "print('El cociente de ' + x + ' / ' + y + ' es ' + str(int(x // y)))\n",
    "print('El resto de ' + x + ' / ' + y + ' es ' + str(int(x % y)))\n",
    "print()\n",
    "print('El cociente de ' + y + ' / ' + x + ' es ' + str(int(y // x)))\n",
    "print('El resto de ' + y + ' / ' + x + ' es ' + str(int(y % x)))"
   ]
  },
  {
   "cell_type": "markdown",
   "metadata": {},
   "source": [
    "## Tarea 2.5"
   ]
  },
  {
   "cell_type": "markdown",
   "metadata": {},
   "source": [
    "### Escribe una secuencia de instrucciones que permitan leer un número entero es cuadrado perfecto o no (piensa la mejor forma de hacerlo con lo que has aprendido hasta ahora)."
   ]
  },
  {
   "cell_type": "code",
   "execution_count": 28,
   "metadata": {},
   "outputs": [
    {
     "name": "stdin",
     "output_type": "stream",
     "text": [
      "Coordenada x: 14\n"
     ]
    },
    {
     "name": "stdout",
     "output_type": "stream",
     "text": [
      "14 no es un cuadrado perfecto.\n"
     ]
    }
   ],
   "source": [
    "x = int(input('Número entero x:'))\n",
    "raiz_x = x**(0.5)\n",
    "\n",
    "if raiz_x - int(raiz_x) > 0:\n",
    "    print(x, 'no es un cuadrado perfecto.')\n",
    "else:\n",
    "    print(x, 'es un cuadrado perfecto.')"
   ]
  },
  {
   "cell_type": "markdown",
   "metadata": {},
   "source": [
    "## Tarea 2.6"
   ]
  },
  {
   "cell_type": "markdown",
   "metadata": {},
   "source": [
    "### Escribe una expresión que permita determinar si un número entero positivo puede corresponder a un año bisiesto o no. Se consideran años bisiestos aquellos cuyo número es divisible por cuatro excepto los años que son múltiplos de 100, a no ser que lo sean de 400 (por ejemplo el año 2000 fue bisiesto pero el 2100 no lo será)."
   ]
  },
  {
   "cell_type": "code",
   "execution_count": 17,
   "metadata": {},
   "outputs": [
    {
     "name": "stdin",
     "output_type": "stream",
     "text": [
      "Año: 2004\n"
     ]
    },
    {
     "name": "stdout",
     "output_type": "stream",
     "text": [
      "2004 es un año bisiesto.\n"
     ]
    }
   ],
   "source": [
    "a = int(input('Año:'))\n",
    "\n",
    "if a % 4 == 0:\n",
    "    if a % 100 == 0:\n",
    "        if a % 400 == 0:\n",
    "            print(a, 'es un año bisiesto.')\n",
    "        else:\n",
    "            print(a, 'no es un año bisiesto.')\n",
    "    else:\n",
    "        print(a, 'es un año bisiesto.')\n",
    "else:\n",
    "    print(a, 'no es un año bisiesto.')"
   ]
  },
  {
   "cell_type": "markdown",
   "metadata": {},
   "source": [
    "## Tarea 2.7"
   ]
  },
  {
   "cell_type": "markdown",
   "metadata": {},
   "source": [
    "### Busca la imagen de un tablero de ajedrez en Google y fíjate en la nomenclatura de las casillas. Escribe una expresión lea una letra y un número de teclado correspondiente a una casilla de un tablero de ajedrez y nos indique si esta casilla es negra o blanca."
   ]
  },
  {
   "cell_type": "code",
   "execution_count": 25,
   "metadata": {},
   "outputs": [],
   "source": [
    "def f():\n",
    "    letra = input('Letra:').upper()\n",
    "    numero = int(input('Número:'))\n",
    "    letras = [chr(i) for i in range(65, 73)]\n",
    "    numeros = [n for n in range(9)]\n",
    "    # Check.\n",
    "    if letra not in letras:\n",
    "        print('Letra', letra, 'fuera de nomenclatura.')\n",
    "        letra = input('Letra:').upper()\n",
    "    if numero not in numeros:\n",
    "        print('Número', numero, 'fuera de nomenclatura.')\n",
    "        numero = int(input('Número:'))\n",
    "    # Comprueba color de casilla.\n",
    "    if (ord(letra) % 2 != 0) and (numero % 2 != 0):\n",
    "        print(letra, numero, 'es una casilla negra')\n",
    "    elif (ord(letra) % 2 != 0) and (numero % 2 == 0):\n",
    "        print(letra, numero, 'es una casilla blanca')\n",
    "    elif (ord(letra) % 2 == 0) and (numero % 2 == 0):\n",
    "        print(letra, numero, 'es una casilla negra')\n",
    "    else:\n",
    "        print(letra, numero, 'es una casilla blanca')"
   ]
  },
  {
   "cell_type": "code",
   "execution_count": 17,
   "metadata": {},
   "outputs": [
    {
     "name": "stdin",
     "output_type": "stream",
     "text": [
      "Letra: a\n",
      "Número: 1\n"
     ]
    },
    {
     "name": "stdout",
     "output_type": "stream",
     "text": [
      "A 65\n",
      "A 1 es una casilla negra\n"
     ]
    }
   ],
   "source": [
    "f()"
   ]
  },
  {
   "cell_type": "code",
   "execution_count": 18,
   "metadata": {},
   "outputs": [
    {
     "name": "stdin",
     "output_type": "stream",
     "text": [
      "Letra: a\n",
      "Número: 2\n"
     ]
    },
    {
     "name": "stdout",
     "output_type": "stream",
     "text": [
      "A 65\n",
      "A 2 es una casilla blanca\n"
     ]
    }
   ],
   "source": [
    "f()"
   ]
  },
  {
   "cell_type": "code",
   "execution_count": 19,
   "metadata": {},
   "outputs": [
    {
     "name": "stdin",
     "output_type": "stream",
     "text": [
      "Letra: b\n",
      "Número: 1\n"
     ]
    },
    {
     "name": "stdout",
     "output_type": "stream",
     "text": [
      "B 66\n",
      "B 1 es una casilla blanca\n"
     ]
    }
   ],
   "source": [
    "f()"
   ]
  },
  {
   "cell_type": "code",
   "execution_count": 20,
   "metadata": {},
   "outputs": [
    {
     "name": "stdin",
     "output_type": "stream",
     "text": [
      "Letra: b\n",
      "Número: 2\n"
     ]
    },
    {
     "name": "stdout",
     "output_type": "stream",
     "text": [
      "B 66\n",
      "B 2 es una casilla negra\n"
     ]
    }
   ],
   "source": [
    "f()"
   ]
  },
  {
   "cell_type": "code",
   "execution_count": 21,
   "metadata": {},
   "outputs": [
    {
     "name": "stdin",
     "output_type": "stream",
     "text": [
      "Letra: e\n",
      "Número: 3\n"
     ]
    },
    {
     "name": "stdout",
     "output_type": "stream",
     "text": [
      "E 69\n",
      "E 3 es una casilla negra\n"
     ]
    }
   ],
   "source": [
    "f()"
   ]
  },
  {
   "cell_type": "code",
   "execution_count": 22,
   "metadata": {},
   "outputs": [
    {
     "name": "stdin",
     "output_type": "stream",
     "text": [
      "Letra: f\n",
      "Número: 7\n"
     ]
    },
    {
     "name": "stdout",
     "output_type": "stream",
     "text": [
      "F 70\n",
      "F 7 es una casilla blanca\n"
     ]
    }
   ],
   "source": [
    "f()"
   ]
  },
  {
   "cell_type": "code",
   "execution_count": 23,
   "metadata": {},
   "outputs": [
    {
     "name": "stdin",
     "output_type": "stream",
     "text": [
      "Letra: t\n",
      "Número: 4\n"
     ]
    },
    {
     "name": "stdout",
     "output_type": "stream",
     "text": [
      "Letra T fuera de nomenclatura.\n"
     ]
    },
    {
     "name": "stdin",
     "output_type": "stream",
     "text": [
      "Letra: d\n"
     ]
    },
    {
     "name": "stdout",
     "output_type": "stream",
     "text": [
      "D 68\n",
      "D 4 es una casilla negra\n"
     ]
    }
   ],
   "source": [
    "f()"
   ]
  },
  {
   "cell_type": "code",
   "execution_count": 26,
   "metadata": {},
   "outputs": [
    {
     "name": "stdin",
     "output_type": "stream",
     "text": [
      "Letra: y\n",
      "Número: 78\n"
     ]
    },
    {
     "name": "stdout",
     "output_type": "stream",
     "text": [
      "Letra Y fuera de nomenclatura.\n"
     ]
    },
    {
     "name": "stdin",
     "output_type": "stream",
     "text": [
      "Letra: d\n"
     ]
    },
    {
     "name": "stdout",
     "output_type": "stream",
     "text": [
      "Número 78 fuera de nomenclatura.\n"
     ]
    },
    {
     "name": "stdin",
     "output_type": "stream",
     "text": [
      "Número: 7\n"
     ]
    },
    {
     "name": "stdout",
     "output_type": "stream",
     "text": [
      "D 7 es una casilla blanca\n"
     ]
    }
   ],
   "source": [
    "f()"
   ]
  },
  {
   "cell_type": "code",
   "execution_count": null,
   "metadata": {},
   "outputs": [],
   "source": []
  }
 ],
 "metadata": {
  "kernelspec": {
   "display_name": "Python 3",
   "language": "python",
   "name": "python3"
  },
  "language_info": {
   "codemirror_mode": {
    "name": "ipython",
    "version": 3
   },
   "file_extension": ".py",
   "mimetype": "text/x-python",
   "name": "python",
   "nbconvert_exporter": "python",
   "pygments_lexer": "ipython3",
   "version": "3.8.5"
  }
 },
 "nbformat": 4,
 "nbformat_minor": 4
}
