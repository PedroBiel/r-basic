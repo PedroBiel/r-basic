{
 "cells": [
  {
   "cell_type": "markdown",
   "metadata": {},
   "source": [
    "# Tarea 5"
   ]
  },
  {
   "cell_type": "markdown",
   "metadata": {},
   "source": [
    "## Tarea 5.1"
   ]
  },
  {
   "cell_type": "markdown",
   "metadata": {},
   "source": [
    "### Crea una función que reciba los tres coeficientes a, b y c para resolver una ecuación de segundo grado. Muestra la solución por pantalla y ayúdate de la librería Math para acceder a la función raíz cuadrada."
   ]
  },
  {
   "cell_type": "code",
   "execution_count": 106,
   "metadata": {},
   "outputs": [],
   "source": [
    "from math import sqrt\n",
    "\n",
    "def f(a, b, c):\n",
    "    D = b**2 - 4 * a * c\n",
    "    resultado_1 = (-b + sqrt(D)) / (2 * a)\n",
    "    resultado_2 = (-b - sqrt(D)) / (2 * a)\n",
    "    return (resultado_1, resultado_2)"
   ]
  },
  {
   "cell_type": "code",
   "execution_count": 107,
   "metadata": {},
   "outputs": [
    {
     "name": "stdout",
     "output_type": "stream",
     "text": [
      "(-1.0, -1.0)\n"
     ]
    }
   ],
   "source": [
    "print(f(1, 2, 1))"
   ]
  },
  {
   "cell_type": "code",
   "execution_count": 108,
   "metadata": {},
   "outputs": [
    {
     "name": "stdout",
     "output_type": "stream",
     "text": [
      "(2.0, -1.0)\n"
     ]
    }
   ],
   "source": [
    "print(f(1, -1, -2))"
   ]
  },
  {
   "cell_type": "markdown",
   "metadata": {},
   "source": [
    "## Tarea 5.2"
   ]
  },
  {
   "cell_type": "markdown",
   "metadata": {},
   "source": [
    "### Crea una función que lea una frase de teclado y nos diga si es o no un palíndromo (frase que se lee igual de izquierda a derecha o al revés como por ejemplo *La ruta nos aportó otro paso natural*.)"
   ]
  },
  {
   "cell_type": "code",
   "execution_count": 109,
   "metadata": {},
   "outputs": [],
   "source": [
    "import re\n",
    "\n",
    "def es_palindromo(frase):\n",
    "    frase = frase.lower()  # Minúsculas\n",
    "    frase = frase.replace(' ', '')  # Elimina espacios en blanco\n",
    "    frase = re.sub('¿?¡!. ', '', frase)  # Elimina carácetres especiales\n",
    "    \n",
    "    for i, j in zip('áéíóúü', 'aeiouu'):  # Elimina tildes\n",
    "        frase = frase.replace(i, j)\n",
    "    \n",
    "    palindromo = True\n",
    "    frase_invertida = frase[::-1]\n",
    "    \n",
    "    for i, j in zip(frase, frase_invertida):\n",
    "        if i != j:\n",
    "            palindromo = False\n",
    "            break\n",
    "    \n",
    "    if palindromo:\n",
    "        return 'La frase es un palindromo.'\n",
    "    else:\n",
    "        return 'La frase no es un palindormo.'"
   ]
  },
  {
   "cell_type": "code",
   "execution_count": 110,
   "metadata": {},
   "outputs": [
    {
     "data": {
      "text/plain": [
       "'La frase es un palindromo.'"
      ]
     },
     "execution_count": 110,
     "metadata": {},
     "output_type": "execute_result"
    }
   ],
   "source": [
    "frase = 'La ruta nos aportó otro paso natural'\n",
    "es_palindromo(frase)"
   ]
  },
  {
   "cell_type": "code",
   "execution_count": 111,
   "metadata": {},
   "outputs": [
    {
     "data": {
      "text/plain": [
       "'La frase no es un palindormo'"
      ]
     },
     "execution_count": 111,
     "metadata": {},
     "output_type": "execute_result"
    }
   ],
   "source": [
    "frase = 'Esta frase no es un palindromo'\n",
    "es_palindromo(frase)"
   ]
  },
  {
   "cell_type": "code",
   "execution_count": 123,
   "metadata": {},
   "outputs": [],
   "source": [
    "def palindromo(frase: str):\n",
    "    n = len(frase)\n",
    "    for i in range(n//2):\n",
    "        if frase[i] != frase[n-1-i]:\n",
    "            return False\n",
    "    return True"
   ]
  },
  {
   "cell_type": "code",
   "execution_count": 124,
   "metadata": {},
   "outputs": [
    {
     "data": {
      "text/plain": [
       "False"
      ]
     },
     "execution_count": 124,
     "metadata": {},
     "output_type": "execute_result"
    }
   ],
   "source": [
    "frase = 'La ruta nos aportó otro paso natural'\n",
    "palindromo(frase)"
   ]
  },
  {
   "cell_type": "code",
   "execution_count": null,
   "metadata": {},
   "outputs": [],
   "source": []
  },
  {
   "cell_type": "markdown",
   "metadata": {},
   "source": [
    "## Tarea 5.3"
   ]
  },
  {
   "cell_type": "markdown",
   "metadata": {},
   "source": [
    "### Crea un diccionario que tenga por claves los números del 1 al 10 y como valores sus raíces cuadradas"
   ]
  },
  {
   "cell_type": "code",
   "execution_count": 112,
   "metadata": {},
   "outputs": [],
   "source": [
    "d = {}\n",
    "\n",
    "for x in range(1, 11):\n",
    "    d[x] = x**(0.5)"
   ]
  },
  {
   "cell_type": "code",
   "execution_count": 114,
   "metadata": {},
   "outputs": [
    {
     "data": {
      "text/plain": [
       "{1: 1.0,\n",
       " 2: 1.4142135623730951,\n",
       " 3: 1.7320508075688772,\n",
       " 4: 2.0,\n",
       " 5: 2.23606797749979,\n",
       " 6: 2.449489742783178,\n",
       " 7: 2.6457513110645907,\n",
       " 8: 2.8284271247461903,\n",
       " 9: 3.0,\n",
       " 10: 3.1622776601683795}"
      ]
     },
     "execution_count": 114,
     "metadata": {},
     "output_type": "execute_result"
    }
   ],
   "source": [
    "d"
   ]
  },
  {
   "cell_type": "markdown",
   "metadata": {},
   "source": [
    "## Tarea 5.4"
   ]
  },
  {
   "cell_type": "markdown",
   "metadata": {},
   "source": [
    "### Crea un diccionario que tenga como claves las letras del alfabeto castellano y como valores los símbolos del código morse (los tienes todos en la Wikipedia). A continuación crea un programa que lea una frase del teclado y te la convierta a Morse utilizando el diccionario anterior."
   ]
  },
  {
   "cell_type": "code",
   "execution_count": 116,
   "metadata": {},
   "outputs": [],
   "source": [
    "def morse(frase):\n",
    "    d = {\n",
    "        'A':'.-', \n",
    "        'B':'-...', \n",
    "        'C':'-.-.', \n",
    "        'CH':'----',\n",
    "        'D':'-..', \n",
    "        'E':'.', \n",
    "        'F':'..-.',\n",
    "        'G':'--.',\n",
    "        'H':'....', \n",
    "        'I':'..',\n",
    "        'J':'.---', \n",
    "        'K':'-.-', \n",
    "        'L':'.-..',\n",
    "        'M':'--',\n",
    "        'N':'-.', \n",
    "        'Ñ':'--.--',\n",
    "        'O':'---', \n",
    "        'P':'.--.', \n",
    "        'Q':'--.-', \n",
    "        'R':'.-.',\n",
    "        'S':'...', \n",
    "        'T':'-', \n",
    "        'U':'..-', \n",
    "        'V':'...-', \n",
    "        'W':'.--', \n",
    "        'X':'-..-', \n",
    "        'Y':'-.--',\n",
    "        'Z':'--..',\n",
    "        '.':'--..--',\n",
    "        ',':'--..--',\n",
    "        '?':'..--..'\n",
    "    }\n",
    "    \n",
    "    frase = frase.upper()  # Mayúsculas\n",
    "    \n",
    "    for i, j in zip('ÁÉÍÓÚÜ', 'AEIOUU'):  # Elimina tildes\n",
    "        frase = frase.replace(i, j)\n",
    "    mensaje_morse = ''\n",
    "    \n",
    "    for letra in frase:\n",
    "        if letra != ' ':\n",
    "            mensaje_morse += d[letra] + ' '\n",
    "        else:\n",
    "            mensaje_morse += '  '  # Doble carácter para espacios en blanco de la frase.\n",
    "    \n",
    "    return mensaje_morse"
   ]
  },
  {
   "cell_type": "code",
   "execution_count": 118,
   "metadata": {},
   "outputs": [
    {
     "data": {
      "text/plain": [
       "'.... --- .-.. .-   -- ..- -. -.. --- --..-- '"
      ]
     },
     "execution_count": 118,
     "metadata": {},
     "output_type": "execute_result"
    }
   ],
   "source": [
    "f = 'Hola mundo.'\n",
    "morse(f)"
   ]
  },
  {
   "cell_type": "markdown",
   "metadata": {},
   "source": [
    "## Tarea 5.5"
   ]
  },
  {
   "cell_type": "markdown",
   "metadata": {},
   "source": [
    "### Crea una función que dados dos diccionarios nos diga que claves están presentes en ambos"
   ]
  },
  {
   "cell_type": "code",
   "execution_count": 120,
   "metadata": {},
   "outputs": [
    {
     "name": "stdout",
     "output_type": "stream",
     "text": [
      "{'I': 73, 'P': 80, 'W': 87, 'U': 85, 'Y': 89}\n",
      "{'U': 85, 'R': 82, 'I': 73, 'T': 84, 'A': 65}\n",
      "{'U', 'I'}\n"
     ]
    }
   ],
   "source": [
    "def claves(d1, d2):\n",
    "    claves1 = list(d1.keys())\n",
    "    claves2 = list(d2.keys())\n",
    "    match = set(claves1) & set(claves2)\n",
    "    \n",
    "    if len(match) != 0:\n",
    "        return match\n",
    "    else:\n",
    "        return 'No hay claves coicidentes.'\n",
    "\n",
    "    \n",
    "import random\n",
    "d1, d2 = {}, {}\n",
    "for i in range(5):\n",
    "    val1, val2 = random.randint(65, 90), random.randint(65, 90)\n",
    "    d1[chr(val1)], d2[chr(val2)] = val1, val2\n",
    "    \n",
    "print(d1)\n",
    "print(d2)\n",
    "print(claves(d1, d2))"
   ]
  },
  {
   "cell_type": "code",
   "execution_count": 125,
   "metadata": {},
   "outputs": [],
   "source": [
    "def interseccion(d1: dict, d2: dict):\n",
    "    r = []\n",
    "    for k in d1:\n",
    "        if k in d2:\n",
    "            r.append(k)\n",
    "    return r"
   ]
  },
  {
   "cell_type": "code",
   "execution_count": 126,
   "metadata": {},
   "outputs": [
    {
     "data": {
      "text/plain": [
       "['I', 'U']"
      ]
     },
     "execution_count": 126,
     "metadata": {},
     "output_type": "execute_result"
    }
   ],
   "source": [
    "interseccion(d1,d2)"
   ]
  },
  {
   "cell_type": "markdown",
   "metadata": {},
   "source": [
    "## Tarea 5.6"
   ]
  },
  {
   "cell_type": "markdown",
   "metadata": {},
   "source": [
    "### Crea una función que dado un número N nos diga si es primo o no (tiene que ir dividiendo por todos los números x comprendidos entre 2 y el propio número N menos uno y ver si el cociente de N/x tiene resto entero o no). "
   ]
  },
  {
   "cell_type": "code",
   "execution_count": 18,
   "metadata": {},
   "outputs": [],
   "source": [
    "def es_primo(n):\n",
    "    \n",
    "    for x in range(2, n):\n",
    "        if n % 2 == 0:\n",
    "            return '{} no es un múmero primo.'.format(n)\n",
    "        \n",
    "    return '{} es un número primo'.format(n)"
   ]
  },
  {
   "cell_type": "code",
   "execution_count": 19,
   "metadata": {},
   "outputs": [
    {
     "data": {
      "text/plain": [
       "'7 es un número primo'"
      ]
     },
     "execution_count": 19,
     "metadata": {},
     "output_type": "execute_result"
    }
   ],
   "source": [
    "n = 7\n",
    "es_primo(n)"
   ]
  },
  {
   "cell_type": "code",
   "execution_count": 20,
   "metadata": {},
   "outputs": [
    {
     "data": {
      "text/plain": [
       "'4 no es un múmero primo.'"
      ]
     },
     "execution_count": 20,
     "metadata": {},
     "output_type": "execute_result"
    }
   ],
   "source": [
    "n = 4\n",
    "es_primo(n)"
   ]
  },
  {
   "cell_type": "markdown",
   "metadata": {},
   "source": [
    "## Tarea 5.7"
   ]
  },
  {
   "cell_type": "markdown",
   "metadata": {},
   "source": [
    "### Investiga la documentación de la clase string y crea un método que lea una frase del teclado y escriba la primera letra de cada palabra en Mayúscula."
   ]
  },
  {
   "cell_type": "code",
   "execution_count": 21,
   "metadata": {},
   "outputs": [
    {
     "data": {
      "text/plain": [
       "'Bla Bla Bla'"
      ]
     },
     "execution_count": 21,
     "metadata": {},
     "output_type": "execute_result"
    }
   ],
   "source": [
    "'bla bla bla'.title()"
   ]
  },
  {
   "cell_type": "code",
   "execution_count": 22,
   "metadata": {},
   "outputs": [],
   "source": [
    "def primera_letra_mayuscula():\n",
    "    frase = input('Introduce una frase:')\n",
    "    return frase.title()"
   ]
  },
  {
   "cell_type": "code",
   "execution_count": 23,
   "metadata": {},
   "outputs": [
    {
     "name": "stdin",
     "output_type": "stream",
     "text": [
      "Introduce una frase: bla bla bla\n"
     ]
    },
    {
     "data": {
      "text/plain": [
       "'Bla Bla Bla'"
      ]
     },
     "execution_count": 23,
     "metadata": {},
     "output_type": "execute_result"
    }
   ],
   "source": [
    "primera_letra_mayuscula()"
   ]
  },
  {
   "cell_type": "code",
   "execution_count": 127,
   "metadata": {},
   "outputs": [],
   "source": [
    "def problema7():\n",
    "    frase = input('Ingrese una frase: ')\n",
    "    for w in frase.split(' '):\n",
    "        print(w[0].upper())"
   ]
  },
  {
   "cell_type": "code",
   "execution_count": 128,
   "metadata": {},
   "outputs": [
    {
     "name": "stdin",
     "output_type": "stream",
     "text": [
      "Ingrese una frase:  bla bla bla\n"
     ]
    },
    {
     "name": "stdout",
     "output_type": "stream",
     "text": [
      "B\n",
      "B\n",
      "B\n"
     ]
    }
   ],
   "source": [
    "problema7()"
   ]
  },
  {
   "cell_type": "markdown",
   "metadata": {},
   "source": [
    "## Tarea 5.8"
   ]
  },
  {
   "cell_type": "markdown",
   "metadata": {},
   "source": [
    "### Crea una función que calcule el máximo común divisor de dos números introducidos por el usuario por teclado."
   ]
  },
  {
   "cell_type": "code",
   "execution_count": 26,
   "metadata": {},
   "outputs": [],
   "source": [
    "def mcd(x, y):\n",
    "    while y:\n",
    "        x, y = y, x % y\n",
    "    return x"
   ]
  },
  {
   "cell_type": "code",
   "execution_count": 27,
   "metadata": {},
   "outputs": [
    {
     "data": {
      "text/plain": [
       "15"
      ]
     },
     "execution_count": 27,
     "metadata": {},
     "output_type": "execute_result"
    }
   ],
   "source": [
    "mcd(75, 30)"
   ]
  },
  {
   "cell_type": "code",
   "execution_count": 28,
   "metadata": {},
   "outputs": [
    {
     "data": {
      "text/plain": [
       "15"
      ]
     },
     "execution_count": 28,
     "metadata": {},
     "output_type": "execute_result"
    }
   ],
   "source": [
    "from math import gcd\n",
    "gcd(75, 30)"
   ]
  },
  {
   "cell_type": "code",
   "execution_count": 25,
   "metadata": {},
   "outputs": [
    {
     "data": {
      "text/plain": [
       "15"
      ]
     },
     "execution_count": 25,
     "metadata": {},
     "output_type": "execute_result"
    }
   ],
   "source": [
    "gcd(75, 30)"
   ]
  },
  {
   "cell_type": "code",
   "execution_count": 129,
   "metadata": {},
   "outputs": [],
   "source": [
    "def mcd(a: int, b: int):\n",
    "    if b == 0:\n",
    "        return a\n",
    "    else:\n",
    "        return mcd(b, a % b)"
   ]
  },
  {
   "cell_type": "code",
   "execution_count": 130,
   "metadata": {},
   "outputs": [
    {
     "data": {
      "text/plain": [
       "15"
      ]
     },
     "execution_count": 130,
     "metadata": {},
     "output_type": "execute_result"
    }
   ],
   "source": [
    "mcd(75, 30)"
   ]
  },
  {
   "cell_type": "markdown",
   "metadata": {},
   "source": [
    "## Tarea 5.9"
   ]
  },
  {
   "cell_type": "markdown",
   "metadata": {},
   "source": [
    "### Investiga el Cifrado del César y crea una función que lo reproduzca en Python. Cada letra del mensaje original se desplaza tres posiciones en el alfabeto estándar. La A se convierte en la D, la B se convierte en la E, la C se convierte en la F... y cuando se acaba el alfabeto se le vuelve a dar la vuelta: la X se convierte en la A, la Y en la B y la X en la C. Los números no sufren ninguna modificación."
   ]
  },
  {
   "cell_type": "code",
   "execution_count": 30,
   "metadata": {},
   "outputs": [
    {
     "data": {
      "text/plain": [
       "(65, 90)"
      ]
     },
     "execution_count": 30,
     "metadata": {},
     "output_type": "execute_result"
    }
   ],
   "source": [
    "ord('A'), ord('Z')"
   ]
  },
  {
   "cell_type": "code",
   "execution_count": 31,
   "metadata": {},
   "outputs": [
    {
     "data": {
      "text/plain": [
       "(97, 122)"
      ]
     },
     "execution_count": 31,
     "metadata": {},
     "output_type": "execute_result"
    }
   ],
   "source": [
    "ord('a'), ord('z')"
   ]
  },
  {
   "cell_type": "code",
   "execution_count": 76,
   "metadata": {},
   "outputs": [],
   "source": [
    "def cifrado_cesar(texto, n=3):\n",
    "    # Lista ascii del texto\n",
    "    lst_ascii = [ord(letra) for letra in texto]\n",
    "    \n",
    "    # Lista ascii cifrada\n",
    "    lst_ascii_cifrado = []\n",
    "    for x in lst_ascii:\n",
    "        condicion_1 = ((x >= ord('A')) and (x <= ord('Z') - n)) or (\n",
    "            (x >= ord('a')) and (x <= ord('z') - n))\n",
    "        condicion_2 = (x > ord('Z') - n) or (x > ord('z') - n)\n",
    "        if condicion_1:\n",
    "            lst_ascii_cifrado.append(x + n)\n",
    "        elif condicion_2:\n",
    "            lst_ascii_cifrado.append(x + n - (ord('Z') - ord('A')) - 1)\n",
    "        else:\n",
    "            lst_ascii_cifrado.append(x)\n",
    "    \n",
    "    # Texto cifrado\n",
    "    lst_txt_cifrado = [chr(x) for x in lst_ascii_cifrado]\n",
    "    txt_cifrado = ''.join(lst_txt_cifrado)\n",
    "    \n",
    "    print(lst_ascii)\n",
    "    print(lst_ascii_cifrado)\n",
    "    print(lst_txt_cifrado)\n",
    "    print(txt_cifrado)\n",
    "    \n",
    "    return txt_cifrado"
   ]
  },
  {
   "cell_type": "code",
   "execution_count": 77,
   "metadata": {},
   "outputs": [
    {
     "name": "stdout",
     "output_type": "stream",
     "text": [
      "[72, 111, 108, 97, 32, 109, 117, 110, 100, 111, 33, 32, 65, 66, 67, 32, 88, 89, 90]\n",
      "[75, 114, 111, 100, 32, 112, 120, 113, 103, 114, 33, 32, 68, 69, 70, 32, 65, 66, 67]\n",
      "['K', 'r', 'o', 'd', ' ', 'p', 'x', 'q', 'g', 'r', '!', ' ', 'D', 'E', 'F', ' ', 'A', 'B', 'C']\n",
      "Krod pxqgr! DEF ABC\n"
     ]
    },
    {
     "data": {
      "text/plain": [
       "'Krod pxqgr! DEF ABC'"
      ]
     },
     "execution_count": 77,
     "metadata": {},
     "output_type": "execute_result"
    }
   ],
   "source": [
    "texto = 'Hola mundo! ABC XYZ'\n",
    "cifrado_cesar(texto)"
   ]
  },
  {
   "cell_type": "code",
   "execution_count": 131,
   "metadata": {},
   "outputs": [],
   "source": [
    "def cifradoDeCesar(frase: str):\n",
    "    frase = frase.upper()\n",
    "    cifrado = ''\n",
    "    for c in frase:\n",
    "        A = ord('A')\n",
    "        Z = ord('Z')\n",
    "        i = ord(c)\n",
    "        if A <= i and i <= Z:\n",
    "            cifrado += chr(A + (i + 3 - A) % (Z - A + 1))\n",
    "        else:\n",
    "            cifrado += c\n",
    "\n",
    "    return cifrado"
   ]
  },
  {
   "cell_type": "code",
   "execution_count": 132,
   "metadata": {},
   "outputs": [
    {
     "data": {
      "text/plain": [
       "'KROD PXQGR! DEF ABC'"
      ]
     },
     "execution_count": 132,
     "metadata": {},
     "output_type": "execute_result"
    }
   ],
   "source": [
    "cifradoDeCesar(texto)"
   ]
  },
  {
   "cell_type": "markdown",
   "metadata": {},
   "source": [
    "## Tarea 5.10"
   ]
  },
  {
   "cell_type": "markdown",
   "metadata": {},
   "source": [
    "### Dado una lista de nombres de persona, escribe un algoritmo que los ordene de tres formas diferentes:\n",
    "### A. De forma alfabética\n",
    "### B. De forma alfabética invertida\n",
    "### C. De nombre más corto al más largo."
   ]
  },
  {
   "cell_type": "code",
   "execution_count": 104,
   "metadata": {},
   "outputs": [],
   "source": [
    "def ordena_nombres(lista_nombres):\n",
    "    alfabeticamente = sorted(lista_nombres)\n",
    "    alfabeticamente_invertida = sorted(lista_nombres, reverse=True)\n",
    "    por_longitud = sorted(lista_nombres, key=len)\n",
    "    \n",
    "    return alfabeticamente, alfabeticamente_invertida, por_longitud"
   ]
  },
  {
   "cell_type": "code",
   "execution_count": 105,
   "metadata": {},
   "outputs": [
    {
     "data": {
      "text/plain": [
       "(['Ana', 'Fernanda', 'Fernando', 'María', 'Pedro', 'Zacarías'],\n",
       " ['Zacarías', 'Pedro', 'María', 'Fernando', 'Fernanda', 'Ana'],\n",
       " ['Ana', 'Pedro', 'María', 'Zacarías', 'Fernando', 'Fernanda'])"
      ]
     },
     "execution_count": 105,
     "metadata": {},
     "output_type": "execute_result"
    }
   ],
   "source": [
    "nombres = ['Zacarías', 'Ana', 'Pedro', 'María', 'Fernando', 'Fernanda']\n",
    "ordena_nombres(nombres)"
   ]
  },
  {
   "cell_type": "code",
   "execution_count": null,
   "metadata": {},
   "outputs": [],
   "source": []
  }
 ],
 "metadata": {
  "kernelspec": {
   "display_name": "Python 3",
   "language": "python",
   "name": "python3"
  },
  "language_info": {
   "codemirror_mode": {
    "name": "ipython",
    "version": 3
   },
   "file_extension": ".py",
   "mimetype": "text/x-python",
   "name": "python",
   "nbconvert_exporter": "python",
   "pygments_lexer": "ipython3",
   "version": "3.8.5"
  }
 },
 "nbformat": 4,
 "nbformat_minor": 4
}
