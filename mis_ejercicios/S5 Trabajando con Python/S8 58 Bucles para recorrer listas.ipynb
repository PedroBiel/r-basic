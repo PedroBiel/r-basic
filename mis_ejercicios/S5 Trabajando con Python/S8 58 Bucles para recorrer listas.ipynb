{
 "cells": [
  {
   "cell_type": "markdown",
   "metadata": {},
   "source": [
    "# Sección 8: Estructuras de datos en Python"
   ]
  },
  {
   "cell_type": "markdown",
   "metadata": {},
   "source": [
    "## 58. Bucles para recorrer listas"
   ]
  },
  {
   "cell_type": "markdown",
   "metadata": {},
   "source": [
    "### Criba de Eratóstenes"
   ]
  },
  {
   "cell_type": "markdown",
   "metadata": {},
   "source": [
    "https://es.wikipedia.org/wiki/Criba_de_Erat%C3%B3stenes"
   ]
  },
  {
   "cell_type": "code",
   "execution_count": 17,
   "metadata": {},
   "outputs": [
    {
     "name": "stdin",
     "output_type": "stream",
     "text": [
      "Número entero mayor de 2: 20\n"
     ]
    }
   ],
   "source": [
    "limite = int(input('Número entero mayor de 2:'))"
   ]
  },
  {
   "cell_type": "code",
   "execution_count": 22,
   "metadata": {},
   "outputs": [
    {
     "name": "stdout",
     "output_type": "stream",
     "text": [
      "Primos: \n",
      "2 \n",
      "3 \n",
      "5 \n",
      "7 \n",
      "11 \n",
      "13 \n"
     ]
    }
   ],
   "source": [
    "#Criba de Eratóstenes\n",
    "#Obtener las lista de números a evaluar\n",
    "primos = []\n",
    "numeros= []\n",
    "for i in range(1,limite+1):\n",
    "\tnumeros.append(True)\n",
    "#Recorrer los números y para cada uno\n",
    "for n in range(2, limite):\n",
    "\t#Si es primo recorrer los múltiplos y marcarlos como no primo\n",
    "\tif numeros[n]:\n",
    "\t\tfor i in range(n*n,limite,n):\n",
    "\t\t\tnumeros[i] = False\n",
    "#Mostrar la lista de los primos\n",
    "print(\"Primos: \")\n",
    "for n in range(2, limite):\n",
    "\tif numeros[n]:\n",
    "\t\tprint(str(n)+\" \")"
   ]
  },
  {
   "cell_type": "code",
   "execution_count": null,
   "metadata": {},
   "outputs": [],
   "source": []
  },
  {
   "cell_type": "code",
   "execution_count": null,
   "metadata": {},
   "outputs": [],
   "source": []
  }
 ],
 "metadata": {
  "kernelspec": {
   "display_name": "Python 3",
   "language": "python",
   "name": "python3"
  },
  "language_info": {
   "codemirror_mode": {
    "name": "ipython",
    "version": 3
   },
   "file_extension": ".py",
   "mimetype": "text/x-python",
   "name": "python",
   "nbconvert_exporter": "python",
   "pygments_lexer": "ipython3",
   "version": "3.8.5"
  }
 },
 "nbformat": 4,
 "nbformat_minor": 4
}
