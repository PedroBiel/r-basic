{
 "cells": [
  {
   "cell_type": "markdown",
   "metadata": {},
   "source": [
    "# Diagrama de cajas y bigotes con Python"
   ]
  },
  {
   "cell_type": "code",
   "execution_count": 1,
   "metadata": {},
   "outputs": [],
   "source": [
    "import numpy as np\n",
    "import matplotlib.pyplot as plt"
   ]
  },
  {
   "cell_type": "code",
   "execution_count": 2,
   "metadata": {},
   "outputs": [],
   "source": [
    "np.random.seed(19880519)"
   ]
  },
  {
   "cell_type": "code",
   "execution_count": 3,
   "metadata": {},
   "outputs": [],
   "source": [
    "dist1 = 100 * np.random.rand(50)  # 50 números entre 0 y 100.\n",
    "dist2 = 50 * np.ones(25)  # 50 unos.\n",
    "dist3 = 100 + 100 * np.random.rand(10)  # 10 números entre 100 y 200.\n",
    "dist4 = -100 * np.random.rand(10)  # 10 números entre -100 y 0.\n",
    "data = np.concatenate((dist1, dist2, dist3, dist4))"
   ]
  },
  {
   "cell_type": "code",
   "execution_count": 4,
   "metadata": {},
   "outputs": [
    {
     "data": {
      "text/plain": [
       "{'whiskers': [<matplotlib.lines.Line2D at 0x2ab91df14c0>,\n",
       "  <matplotlib.lines.Line2D at 0x2ab91df1820>],\n",
       " 'caps': [<matplotlib.lines.Line2D at 0x2ab91df1b80>,\n",
       "  <matplotlib.lines.Line2D at 0x2ab91df1ee0>],\n",
       " 'boxes': [<matplotlib.lines.Line2D at 0x2ab91df1160>],\n",
       " 'medians': [<matplotlib.lines.Line2D at 0x2ab91e00280>],\n",
       " 'fliers': [<matplotlib.lines.Line2D at 0x2ab91e005e0>],\n",
       " 'means': []}"
      ]
     },
     "execution_count": 4,
     "metadata": {},
     "output_type": "execute_result"
    },
    {
     "data": {
      "image/png": "[encoded data removed]",
      "text/plain": [
       "<Figure size 432x288 with 1 Axes>"
      ]
     },
     "metadata": {
      "needs_background": "light"
     },
     "output_type": "display_data"
    }
   ],
   "source": [
    "fig1, ax1 = plt.subplots()\n",
    "ax1.set_title('Boxplot básico')\n",
    "ax1.boxplot(data)"
   ]
  },
  {
   "cell_type": "code",
   "execution_count": 5,
   "metadata": {},
   "outputs": [
    {
     "data": {
      "text/plain": [
       "{'whiskers': [<matplotlib.lines.Line2D at 0x2ab91ed1dc0>,\n",
       "  <matplotlib.lines.Line2D at 0x2ab91edf160>],\n",
       " 'caps': [<matplotlib.lines.Line2D at 0x2ab91edf4c0>,\n",
       "  <matplotlib.lines.Line2D at 0x2ab91edf820>],\n",
       " 'boxes': [<matplotlib.lines.Line2D at 0x2ab91ed1a60>],\n",
       " 'medians': [<matplotlib.lines.Line2D at 0x2ab91edfb80>],\n",
       " 'fliers': [<matplotlib.lines.Line2D at 0x2ab91edfee0>],\n",
       " 'means': []}"
      ]
     },
     "execution_count": 5,
     "metadata": {},
     "output_type": "execute_result"
    },
    {
     "data": {
      "image/png": "[encoded data removed]",
      "text/plain": [
       "<Figure size 432x288 with 1 Axes>"
      ]
     },
     "metadata": {
      "needs_background": "light"
     },
     "output_type": "display_data"
    }
   ],
   "source": [
    "fig2, ax2 = plt.subplots()\n",
    "ax2.set_title('Boxplot con muescas')\n",
    "ax2.boxplot(data, notch=True)"
   ]
  },
  {
   "cell_type": "code",
   "execution_count": 6,
   "metadata": {},
   "outputs": [
    {
     "data": {
      "text/plain": [
       "{'whiskers': [<matplotlib.lines.Line2D at 0x2ab91f43250>,\n",
       "  <matplotlib.lines.Line2D at 0x2ab91f435b0>],\n",
       " 'caps': [<matplotlib.lines.Line2D at 0x2ab91f43910>,\n",
       "  <matplotlib.lines.Line2D at 0x2ab91f43c70>],\n",
       " 'boxes': [<matplotlib.lines.Line2D at 0x2ab91f34eb0>],\n",
       " 'medians': [<matplotlib.lines.Line2D at 0x2ab91f43fd0>],\n",
       " 'fliers': [<matplotlib.lines.Line2D at 0x2ab91f4e370>],\n",
       " 'means': []}"
      ]
     },
     "execution_count": 6,
     "metadata": {},
     "output_type": "execute_result"
    },
    {
     "data": {
      "image/png": "[encoded data removed]",
      "text/plain": [
       "<Figure size 432x288 with 1 Axes>"
      ]
     },
     "metadata": {
      "needs_background": "light"
     },
     "output_type": "display_data"
    }
   ],
   "source": [
    "green_dyamonts = dict(markerfacecolor='g', marker='D')\n",
    "fig3, ax3 = plt.subplots()\n",
    "ax3.set_title('Boxplot con outliers personalizados')\n",
    "ax3.boxplot(data, flierprops=green_dyamonts)"
   ]
  },
  {
   "cell_type": "code",
   "execution_count": 7,
   "metadata": {},
   "outputs": [
    {
     "data": {
      "text/plain": [
       "{'whiskers': [<matplotlib.lines.Line2D at 0x2ab91fa6100>,\n",
       "  <matplotlib.lines.Line2D at 0x2ab91fa6460>],\n",
       " 'caps': [<matplotlib.lines.Line2D at 0x2ab91fa67c0>,\n",
       "  <matplotlib.lines.Line2D at 0x2ab91fa6b20>],\n",
       " 'boxes': [<matplotlib.lines.Line2D at 0x2ab91f9ad60>],\n",
       " 'medians': [<matplotlib.lines.Line2D at 0x2ab91fa6e80>],\n",
       " 'fliers': [],\n",
       " 'means': []}"
      ]
     },
     "execution_count": 7,
     "metadata": {},
     "output_type": "execute_result"
    },
    {
     "data": {
      "image/png": "[encoded data removed]",
      "text/plain": [
       "<Figure size 432x288 with 1 Axes>"
      ]
     },
     "metadata": {
      "needs_background": "light"
     },
     "output_type": "display_data"
    }
   ],
   "source": [
    "fig4, ax4 = plt.subplots()\n",
    "ax4.set_title('Boxplot básico')\n",
    "ax4.boxplot(data, showfliers=False)"
   ]
  },
  {
   "cell_type": "code",
   "execution_count": 8,
   "metadata": {},
   "outputs": [
    {
     "data": {
      "text/plain": [
       "{'whiskers': [<matplotlib.lines.Line2D at 0x2ab92004580>,\n",
       "  <matplotlib.lines.Line2D at 0x2ab920048e0>],\n",
       " 'caps': [<matplotlib.lines.Line2D at 0x2ab92004c40>,\n",
       "  <matplotlib.lines.Line2D at 0x2ab92004fa0>],\n",
       " 'boxes': [<matplotlib.lines.Line2D at 0x2ab92004220>],\n",
       " 'medians': [<matplotlib.lines.Line2D at 0x2ab92010340>],\n",
       " 'fliers': [<matplotlib.lines.Line2D at 0x2ab920106a0>],\n",
       " 'means': []}"
      ]
     },
     "execution_count": 8,
     "metadata": {},
     "output_type": "execute_result"
    },
    {
     "data": {
      "image/png": "[encoded data removed]",
      "text/plain": [
       "<Figure size 432x288 with 1 Axes>"
      ]
     },
     "metadata": {
      "needs_background": "light"
     },
     "output_type": "display_data"
    }
   ],
   "source": [
    "red_square = dict(markerfacecolor='r', marker='s')\n",
    "fig5, ax5 = plt.subplots()\n",
    "ax5.set_title('Boxplot personalizado y en horizontal')\n",
    "ax5.boxplot(data, vert=False, flierprops=red_square)"
   ]
  },
  {
   "cell_type": "code",
   "execution_count": 9,
   "metadata": {},
   "outputs": [
    {
     "data": {
      "text/plain": [
       "{'whiskers': [<matplotlib.lines.Line2D at 0x2ab9205cac0>,\n",
       "  <matplotlib.lines.Line2D at 0x2ab9205ce20>],\n",
       " 'caps': [<matplotlib.lines.Line2D at 0x2ab920691c0>,\n",
       "  <matplotlib.lines.Line2D at 0x2ab92069520>],\n",
       " 'boxes': [<matplotlib.lines.Line2D at 0x2ab9205c760>],\n",
       " 'medians': [<matplotlib.lines.Line2D at 0x2ab92069880>],\n",
       " 'fliers': [<matplotlib.lines.Line2D at 0x2ab92069be0>],\n",
       " 'means': []}"
      ]
     },
     "execution_count": 9,
     "metadata": {},
     "output_type": "execute_result"
    },
    {
     "data": {
      "image/png": "[encoded data removed]",
      "text/plain": [
       "<Figure size 432x288 with 1 Axes>"
      ]
     },
     "metadata": {
      "needs_background": "light"
     },
     "output_type": "display_data"
    }
   ],
   "source": [
    "red_square = dict(markerfacecolor='r', marker='s')\n",
    "fig5, ax5 = plt.subplots()\n",
    "ax5.set_title('Boxplot personalizado y en horizontal')\n",
    "ax5.boxplot(data, vert=False, flierprops=red_square, whis=0.75)"
   ]
  },
  {
   "cell_type": "markdown",
   "metadata": {},
   "source": [
    "---"
   ]
  },
  {
   "cell_type": "code",
   "execution_count": 10,
   "metadata": {},
   "outputs": [],
   "source": [
    "dist1 = 100 * np.random.rand(50)  # 50 números entre 0 y 100.\n",
    "dist2 = 40 * np.ones(25)  # 40 unos.\n",
    "dist3 = 100 + 100 * np.random.rand(10)  # 10 números entre 100 y 200.\n",
    "dist4 = -100 * np.random.rand(10)  # 10 números entre -100 y 0.\n",
    "data2 = np.concatenate((dist1, dist2, dist3, dist4))"
   ]
  },
  {
   "cell_type": "code",
   "execution_count": 11,
   "metadata": {},
   "outputs": [
    {
     "data": {
      "text/plain": [
       "array([ 95.01724869,  69.12380733,   0.48968187,  47.05894682,\n",
       "         4.67473068,  40.67623396,  64.21756915,  80.53317201,\n",
       "        84.53778094,  76.21458325,  28.2380596 ,  54.32356712,\n",
       "        21.16504806,  52.59957334,  65.78326666,  54.08796086,\n",
       "        65.67253313,  51.64959973,   9.65024989,  26.83019698,\n",
       "        14.21042473,  13.33719378,  18.38719552,  13.45049344,\n",
       "        97.07057711,  18.73437919,  39.92258068,  12.73583334,\n",
       "        34.15880868,  27.34334446,  63.40891363,  36.87074717,\n",
       "        33.79820623,  21.86138707,  17.0335533 ,  38.27908563,\n",
       "         4.80311074,  36.92550198,  51.52779024,  97.34127621,\n",
       "        32.06991078,  64.89984571,  59.66134846,  48.30605468,\n",
       "         0.8439178 ,  37.71842933,  88.4417325 ,  72.57061663,\n",
       "        90.17827533,  21.40222012,  50.        ,  50.        ,\n",
       "        50.        ,  50.        ,  50.        ,  50.        ,\n",
       "        50.        ,  50.        ,  50.        ,  50.        ,\n",
       "        50.        ,  50.        ,  50.        ,  50.        ,\n",
       "        50.        ,  50.        ,  50.        ,  50.        ,\n",
       "        50.        ,  50.        ,  50.        ,  50.        ,\n",
       "        50.        ,  50.        ,  50.        , 152.12564387,\n",
       "       159.53092968, 128.24711871, 161.46335708, 119.74804423,\n",
       "       123.07403083, 187.28301266, 108.50690613, 171.37788628,\n",
       "       138.51984808, -90.21203423, -11.21848891, -58.83305068,\n",
       "       -20.42825891, -33.45777572, -81.12987221, -61.30977143,\n",
       "       -78.75615113, -89.19223415, -21.69129016])"
      ]
     },
     "execution_count": 11,
     "metadata": {},
     "output_type": "execute_result"
    }
   ],
   "source": [
    "data"
   ]
  },
  {
   "cell_type": "code",
   "execution_count": 12,
   "metadata": {},
   "outputs": [],
   "source": [
    "data.shape = (-1, 1)\n",
    "data2.shape = (-1, 1)"
   ]
  },
  {
   "cell_type": "code",
   "execution_count": 13,
   "metadata": {},
   "outputs": [
    {
     "data": {
      "text/plain": [
       "array([[ 95.01724869],\n",
       "       [ 69.12380733],\n",
       "       [  0.48968187],\n",
       "       [ 47.05894682],\n",
       "       [  4.67473068],\n",
       "       [ 40.67623396],\n",
       "       [ 64.21756915],\n",
       "       [ 80.53317201],\n",
       "       [ 84.53778094],\n",
       "       [ 76.21458325],\n",
       "       [ 28.2380596 ],\n",
       "       [ 54.32356712],\n",
       "       [ 21.16504806],\n",
       "       [ 52.59957334],\n",
       "       [ 65.78326666],\n",
       "       [ 54.08796086],\n",
       "       [ 65.67253313],\n",
       "       [ 51.64959973],\n",
       "       [  9.65024989],\n",
       "       [ 26.83019698],\n",
       "       [ 14.21042473],\n",
       "       [ 13.33719378],\n",
       "       [ 18.38719552],\n",
       "       [ 13.45049344],\n",
       "       [ 97.07057711],\n",
       "       [ 18.73437919],\n",
       "       [ 39.92258068],\n",
       "       [ 12.73583334],\n",
       "       [ 34.15880868],\n",
       "       [ 27.34334446],\n",
       "       [ 63.40891363],\n",
       "       [ 36.87074717],\n",
       "       [ 33.79820623],\n",
       "       [ 21.86138707],\n",
       "       [ 17.0335533 ],\n",
       "       [ 38.27908563],\n",
       "       [  4.80311074],\n",
       "       [ 36.92550198],\n",
       "       [ 51.52779024],\n",
       "       [ 97.34127621],\n",
       "       [ 32.06991078],\n",
       "       [ 64.89984571],\n",
       "       [ 59.66134846],\n",
       "       [ 48.30605468],\n",
       "       [  0.8439178 ],\n",
       "       [ 37.71842933],\n",
       "       [ 88.4417325 ],\n",
       "       [ 72.57061663],\n",
       "       [ 90.17827533],\n",
       "       [ 21.40222012],\n",
       "       [ 50.        ],\n",
       "       [ 50.        ],\n",
       "       [ 50.        ],\n",
       "       [ 50.        ],\n",
       "       [ 50.        ],\n",
       "       [ 50.        ],\n",
       "       [ 50.        ],\n",
       "       [ 50.        ],\n",
       "       [ 50.        ],\n",
       "       [ 50.        ],\n",
       "       [ 50.        ],\n",
       "       [ 50.        ],\n",
       "       [ 50.        ],\n",
       "       [ 50.        ],\n",
       "       [ 50.        ],\n",
       "       [ 50.        ],\n",
       "       [ 50.        ],\n",
       "       [ 50.        ],\n",
       "       [ 50.        ],\n",
       "       [ 50.        ],\n",
       "       [ 50.        ],\n",
       "       [ 50.        ],\n",
       "       [ 50.        ],\n",
       "       [ 50.        ],\n",
       "       [ 50.        ],\n",
       "       [152.12564387],\n",
       "       [159.53092968],\n",
       "       [128.24711871],\n",
       "       [161.46335708],\n",
       "       [119.74804423],\n",
       "       [123.07403083],\n",
       "       [187.28301266],\n",
       "       [108.50690613],\n",
       "       [171.37788628],\n",
       "       [138.51984808],\n",
       "       [-90.21203423],\n",
       "       [-11.21848891],\n",
       "       [-58.83305068],\n",
       "       [-20.42825891],\n",
       "       [-33.45777572],\n",
       "       [-81.12987221],\n",
       "       [-61.30977143],\n",
       "       [-78.75615113],\n",
       "       [-89.19223415],\n",
       "       [-21.69129016]])"
      ]
     },
     "execution_count": 13,
     "metadata": {},
     "output_type": "execute_result"
    }
   ],
   "source": [
    "data"
   ]
  },
  {
   "cell_type": "code",
   "execution_count": 23,
   "metadata": {},
   "outputs": [],
   "source": [
    "fulldata = [data.flatten(), data2.flatten(), data2[::2, 0].flatten()]"
   ]
  },
  {
   "cell_type": "code",
   "execution_count": 24,
   "metadata": {},
   "outputs": [
    {
     "data": {
      "text/plain": [
       "[array([ 95.01724869,  69.12380733,   0.48968187,  47.05894682,\n",
       "          4.67473068,  40.67623396,  64.21756915,  80.53317201,\n",
       "         84.53778094,  76.21458325,  28.2380596 ,  54.32356712,\n",
       "         21.16504806,  52.59957334,  65.78326666,  54.08796086,\n",
       "         65.67253313,  51.64959973,   9.65024989,  26.83019698,\n",
       "         14.21042473,  13.33719378,  18.38719552,  13.45049344,\n",
       "         97.07057711,  18.73437919,  39.92258068,  12.73583334,\n",
       "         34.15880868,  27.34334446,  63.40891363,  36.87074717,\n",
       "         33.79820623,  21.86138707,  17.0335533 ,  38.27908563,\n",
       "          4.80311074,  36.92550198,  51.52779024,  97.34127621,\n",
       "         32.06991078,  64.89984571,  59.66134846,  48.30605468,\n",
       "          0.8439178 ,  37.71842933,  88.4417325 ,  72.57061663,\n",
       "         90.17827533,  21.40222012,  50.        ,  50.        ,\n",
       "         50.        ,  50.        ,  50.        ,  50.        ,\n",
       "         50.        ,  50.        ,  50.        ,  50.        ,\n",
       "         50.        ,  50.        ,  50.        ,  50.        ,\n",
       "         50.        ,  50.        ,  50.        ,  50.        ,\n",
       "         50.        ,  50.        ,  50.        ,  50.        ,\n",
       "         50.        ,  50.        ,  50.        , 152.12564387,\n",
       "        159.53092968, 128.24711871, 161.46335708, 119.74804423,\n",
       "        123.07403083, 187.28301266, 108.50690613, 171.37788628,\n",
       "        138.51984808, -90.21203423, -11.21848891, -58.83305068,\n",
       "        -20.42825891, -33.45777572, -81.12987221, -61.30977143,\n",
       "        -78.75615113, -89.19223415, -21.69129016]),\n",
       " array([ 31.16973912,  46.70100876,  26.60993688,  79.00773255,\n",
       "         90.56672944,  91.73344957,  61.03538679,  86.62796609,\n",
       "         97.18490404,  61.45512778,  17.14542917,  16.10378587,\n",
       "         96.59853259,  96.17832253,  92.46883514,  50.91704958,\n",
       "         49.96398171,  53.52049445,   4.0038454 ,  31.62828316,\n",
       "         31.87410909,  48.333707  ,  21.32083179,  48.12846986,\n",
       "         99.48323968,  24.95000794,  65.11671844,   1.3590582 ,\n",
       "          8.43531747,  48.38046798,  37.24106542,  81.74682661,\n",
       "         75.66841362,  39.00937993,  93.52469242,  65.61157033,\n",
       "         15.01880994,  42.09380234,  40.19375558,  45.89231952,\n",
       "         69.12420345,  71.55040482,  65.3823683 ,  14.53332426,\n",
       "          6.94667025,  84.56070612,   9.32278803,  55.62053867,\n",
       "         34.86982473,  60.30033786,  40.        ,  40.        ,\n",
       "         40.        ,  40.        ,  40.        ,  40.        ,\n",
       "         40.        ,  40.        ,  40.        ,  40.        ,\n",
       "         40.        ,  40.        ,  40.        ,  40.        ,\n",
       "         40.        ,  40.        ,  40.        ,  40.        ,\n",
       "         40.        ,  40.        ,  40.        ,  40.        ,\n",
       "         40.        ,  40.        ,  40.        , 103.49593088,\n",
       "        105.87942329, 127.31998555, 107.49013385, 196.46197876,\n",
       "        102.14149696, 168.23704473, 150.40758612, 160.05348904,\n",
       "        133.78400788, -53.06158121, -54.87542598, -53.45636736,\n",
       "        -18.05516401,  -3.8160298 , -60.26200247,  -3.48314714,\n",
       "        -36.83193855, -45.78419459, -75.2947361 ]),\n",
       " array([ 31.16973912,  26.60993688,  90.56672944,  61.03538679,\n",
       "         97.18490404,  17.14542917,  96.59853259,  92.46883514,\n",
       "         49.96398171,   4.0038454 ,  31.87410909,  21.32083179,\n",
       "         99.48323968,  65.11671844,   8.43531747,  37.24106542,\n",
       "         75.66841362,  93.52469242,  15.01880994,  40.19375558,\n",
       "         69.12420345,  65.3823683 ,   6.94667025,   9.32278803,\n",
       "         34.86982473,  40.        ,  40.        ,  40.        ,\n",
       "         40.        ,  40.        ,  40.        ,  40.        ,\n",
       "         40.        ,  40.        ,  40.        ,  40.        ,\n",
       "         40.        ,  40.        , 105.87942329, 107.49013385,\n",
       "        102.14149696, 150.40758612, 133.78400788, -54.87542598,\n",
       "        -18.05516401, -60.26200247, -36.83193855, -75.2947361 ])]"
      ]
     },
     "execution_count": 24,
     "metadata": {},
     "output_type": "execute_result"
    }
   ],
   "source": [
    "fulldata"
   ]
  },
  {
   "cell_type": "code",
   "execution_count": 25,
   "metadata": {},
   "outputs": [
    {
     "data": {
      "image/png": "[encoded data removed]",
      "text/plain": [
       "<Figure size 432x288 with 1 Axes>"
      ]
     },
     "metadata": {
      "needs_background": "light"
     },
     "output_type": "display_data"
    }
   ],
   "source": [
    "fig7, ax7 = plt.subplots()\n",
    "ax7.set_title('Múltiples muestras de diferente naturaleza')\n",
    "ax7.boxplot(fulldata)\n",
    "plt.show()"
   ]
  },
  {
   "cell_type": "code",
   "execution_count": null,
   "metadata": {},
   "outputs": [],
   "source": []
  }
 ],
 "metadata": {
  "kernelspec": {
   "display_name": "Python 3",
   "language": "python",
   "name": "python3"
  },
  "language_info": {
   "codemirror_mode": {
    "name": "ipython",
    "version": 3
   },
   "file_extension": ".py",
   "mimetype": "text/x-python",
   "name": "python",
   "nbconvert_exporter": "python",
   "pygments_lexer": "ipython3",
   "version": "3.8.5"
  }
 },
 "nbformat": 4,
 "nbformat_minor": 4
}
