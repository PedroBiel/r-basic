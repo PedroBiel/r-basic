{
 "cells": [
  {
   "cell_type": "markdown",
   "metadata": {},
   "source": [
    "# Distribución uniforme"
   ]
  },
  {
   "cell_type": "code",
   "execution_count": 4,
   "metadata": {},
   "outputs": [],
   "source": [
    "from scipy.stats import uniform\n",
    "import matplotlib.pyplot as plt\n",
    "import numpy as np"
   ]
  },
  {
   "cell_type": "code",
   "execution_count": 1,
   "metadata": {},
   "outputs": [],
   "source": [
    "a = 0\n",
    "b = 1"
   ]
  },
  {
   "cell_type": "code",
   "execution_count": 2,
   "metadata": {},
   "outputs": [],
   "source": [
    "loc = a\n",
    "scale = b - a"
   ]
  },
  {
   "cell_type": "code",
   "execution_count": 6,
   "metadata": {},
   "outputs": [
    {
     "name": "stdout",
     "output_type": "stream",
     "text": [
      "Media    : 0.500000\n",
      "Varianza : 0.083333\n",
      "Sesgo    : 0.000000\n",
      "Curtosis : -1.200000\n"
     ]
    }
   ],
   "source": [
    "mean, var, skew, kurt = uniform.stats(moments='mvsk')\n",
    "\n",
    "print('Media    : %f'%mean)\n",
    "print('Varianza : %f'%var)\n",
    "print('Sesgo    : %f'%skew)\n",
    "print('Curtosis : %f'%kurt)"
   ]
  },
  {
   "cell_type": "code",
   "execution_count": 13,
   "metadata": {},
   "outputs": [
    {
     "data": {
      "image/png": "[encoded data removed]",
      "text/plain": [
       "<Figure size 432x288 with 1 Axes>"
      ]
     },
     "metadata": {
      "needs_background": "light"
     },
     "output_type": "display_data"
    }
   ],
   "source": [
    "fig, ax = plt.subplots()\n",
    "x = np.linspace(-0.1, 1.1, 120)\n",
    "rv = uniform(loc=loc, scale=scale)\n",
    "ax.plot(x, rv.pdf(x), 'k-', lw=2, label= 'U(0, 1)')  # pdf = probability density function\n",
    "\n",
    "r = rv.rvs(size=100000)\n",
    "ax.hist(r, density=True, histtype='stepfilled', alpha=0.5)  # Generación aleatoria de puntos\n",
    "\n",
    "ax.legend(loc='best', frameon=False)\n",
    "plt.show()"
   ]
  },
  {
   "cell_type": "code",
   "execution_count": null,
   "metadata": {},
   "outputs": [],
   "source": []
  }
 ],
 "metadata": {
  "kernelspec": {
   "display_name": "Python 3",
   "language": "python",
   "name": "python3"
  },
  "language_info": {
   "codemirror_mode": {
    "name": "ipython",
    "version": 3
   },
   "file_extension": ".py",
   "mimetype": "text/x-python",
   "name": "python",
   "nbconvert_exporter": "python",
   "pygments_lexer": "ipython3",
   "version": "3.8.5"
  }
 },
 "nbformat": 4,
 "nbformat_minor": 4
}
