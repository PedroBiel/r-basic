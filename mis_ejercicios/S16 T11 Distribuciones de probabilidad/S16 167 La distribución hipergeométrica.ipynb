{
 "cells": [
  {
   "cell_type": "markdown",
   "metadata": {},
   "source": [
    "# Distribución hipergeométrica"
   ]
  },
  {
   "cell_type": "code",
   "execution_count": 6,
   "metadata": {},
   "outputs": [],
   "source": [
    "from scipy.stats import hypergeom\n",
    "import matplotlib.pyplot as plt\n",
    "import numpy as np"
   ]
  },
  {
   "cell_type": "markdown",
   "metadata": {},
   "source": [
    "Supongamos que tenemos 20 animales, de los cuales 7 son perros. Queremos medir la probabilidad de encontrar un número determinado de perros si elegimos $N = 12$ animales al azar."
   ]
  },
  {
   "cell_type": "code",
   "execution_count": 3,
   "metadata": {},
   "outputs": [],
   "source": [
    "[M, n, N] = [20, 7, 12]"
   ]
  },
  {
   "cell_type": "code",
   "execution_count": 12,
   "metadata": {},
   "outputs": [],
   "source": [
    "rv = hypergeom(M, n, N)\n",
    "x = np.arange(0, n + 1)\n",
    "y = rv.pmf(x)"
   ]
  },
  {
   "cell_type": "code",
   "execution_count": 15,
   "metadata": {},
   "outputs": [
    {
     "name": "stdout",
     "output_type": "stream",
     "text": [
      "Media    : 4.200000\n",
      "Varianza : 1.149474\n",
      "Sesgo    : -0.062181\n",
      "Curtosis : -0.152661\n"
     ]
    }
   ],
   "source": [
    "mean, var, skew, kurt = rv.stats(moments='mvsk')\n",
    "\n",
    "print('Media    : %f'%mean)\n",
    "print('Varianza : %f'%var)\n",
    "print('Sesgo    : %f'%skew)\n",
    "print('Curtosis : %f'%kurt)"
   ]
  },
  {
   "cell_type": "code",
   "execution_count": 13,
   "metadata": {},
   "outputs": [
    {
     "data": {
      "image/png": "[encoded data removed]",
      "text/plain": [
       "<Figure size 432x288 with 1 Axes>"
      ]
     },
     "metadata": {
      "needs_background": "light"
     },
     "output_type": "display_data"
    }
   ],
   "source": [
    "fig = plt.figure()\n",
    "ax = fig.add_subplot(111)\n",
    "ax.plot(x, y, 'bo')\n",
    "ax.vlines(x, 0, y, lw=2, alpha=0.5)\n",
    "ax.set_xlabel('Nº de perros entre los 12 elegidos al azar')\n",
    "ax.set_ylabel('Distribución de probabilidad de H(13, 7, 12)')\n",
    "plt.show()"
   ]
  },
  {
   "cell_type": "code",
   "execution_count": null,
   "metadata": {},
   "outputs": [],
   "source": []
  }
 ],
 "metadata": {
  "kernelspec": {
   "display_name": "Python 3",
   "language": "python",
   "name": "python3"
  },
  "language_info": {
   "codemirror_mode": {
    "name": "ipython",
    "version": 3
   },
   "file_extension": ".py",
   "mimetype": "text/x-python",
   "name": "python",
   "nbconvert_exporter": "python",
   "pygments_lexer": "ipython3",
   "version": "3.8.5"
  }
 },
 "nbformat": 4,
 "nbformat_minor": 4
}
